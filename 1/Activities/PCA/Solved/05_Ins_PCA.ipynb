{
 "cells": [
  {
   "cell_type": "markdown",
   "metadata": {},
   "source": [
    "# Instructor Do: Speeding up ML algorithms with PCA"
   ]
  },
  {
   "cell_type": "code",
   "execution_count": 16,
   "metadata": {},
   "outputs": [],
   "source": [
    "import pandas as pd\n",
    "from pathlib import Path\n",
    "from sklearn.preprocessing import StandardScaler\n",
    "from sklearn.decomposition import PCA\n",
    "from sklearn.cluster import KMeans\n",
    "import hvplot.pandas\n",
    "import plotly.express as px\n"
   ]
  },
  {
   "cell_type": "code",
   "execution_count": 17,
   "metadata": {},
   "outputs": [
    {
     "data": {
      "text/html": [
       "<div>\n",
       "<style scoped>\n",
       "    .dataframe tbody tr th:only-of-type {\n",
       "        vertical-align: middle;\n",
       "    }\n",
       "\n",
       "    .dataframe tbody tr th {\n",
       "        vertical-align: top;\n",
       "    }\n",
       "\n",
       "    .dataframe thead th {\n",
       "        text-align: right;\n",
       "    }\n",
       "</style>\n",
       "<table border=\"1\" class=\"dataframe\">\n",
       "  <thead>\n",
       "    <tr style=\"text-align: right;\">\n",
       "      <th></th>\n",
       "      <th>sepal_length</th>\n",
       "      <th>sepal_width</th>\n",
       "      <th>petal_length</th>\n",
       "      <th>petal_width</th>\n",
       "    </tr>\n",
       "  </thead>\n",
       "  <tbody>\n",
       "    <tr>\n",
       "      <th>0</th>\n",
       "      <td>5.1</td>\n",
       "      <td>3.5</td>\n",
       "      <td>1.4</td>\n",
       "      <td>0.2</td>\n",
       "    </tr>\n",
       "    <tr>\n",
       "      <th>1</th>\n",
       "      <td>4.9</td>\n",
       "      <td>3.0</td>\n",
       "      <td>1.4</td>\n",
       "      <td>0.2</td>\n",
       "    </tr>\n",
       "    <tr>\n",
       "      <th>2</th>\n",
       "      <td>4.7</td>\n",
       "      <td>3.2</td>\n",
       "      <td>1.3</td>\n",
       "      <td>0.2</td>\n",
       "    </tr>\n",
       "    <tr>\n",
       "      <th>3</th>\n",
       "      <td>4.6</td>\n",
       "      <td>3.1</td>\n",
       "      <td>1.5</td>\n",
       "      <td>0.2</td>\n",
       "    </tr>\n",
       "    <tr>\n",
       "      <th>4</th>\n",
       "      <td>5.0</td>\n",
       "      <td>3.6</td>\n",
       "      <td>1.4</td>\n",
       "      <td>0.2</td>\n",
       "    </tr>\n",
       "  </tbody>\n",
       "</table>\n",
       "</div>"
      ],
      "text/plain": [
       "   sepal_length  sepal_width  petal_length  petal_width\n",
       "0           5.1          3.5           1.4          0.2\n",
       "1           4.9          3.0           1.4          0.2\n",
       "2           4.7          3.2           1.3          0.2\n",
       "3           4.6          3.1           1.5          0.2\n",
       "4           5.0          3.6           1.4          0.2"
      ]
     },
     "execution_count": 17,
     "metadata": {},
     "output_type": "execute_result"
    }
   ],
   "source": [
    "# Loading the preprocessed iris dataset\n",
    "file_path = Path(\"Data/new_iris_data.csv\")\n",
    "df_iris = pd.read_csv(file_path)\n",
    "df_iris.head()\n"
   ]
  },
  {
   "cell_type": "markdown",
   "metadata": {},
   "source": [
    "## Using PCA"
   ]
  },
  {
   "cell_type": "code",
   "execution_count": 18,
   "metadata": {},
   "outputs": [
    {
     "name": "stdout",
     "output_type": "stream",
     "text": [
      "[[-0.90068117  1.03205722 -1.3412724  -1.31297673]\n",
      " [-1.14301691 -0.1249576  -1.3412724  -1.31297673]\n",
      " [-1.38535265  0.33784833 -1.39813811 -1.31297673]\n",
      " [-1.50652052  0.10644536 -1.2844067  -1.31297673]\n",
      " [-1.02184904  1.26346019 -1.3412724  -1.31297673]]\n"
     ]
    }
   ],
   "source": [
    "# Standarize data with StandarScaler\n",
    "iris_scaled = StandardScaler().fit_transform(df_iris)\n",
    "print(iris_scaled[0:5])\n",
    "\n"
   ]
  },
  {
   "cell_type": "code",
   "execution_count": 19,
   "metadata": {},
   "outputs": [],
   "source": [
    "# Applying PCA to reduce dimensions from 4 to 2\n",
    "\n",
    "# Initialize PCA model\n",
    "pca = PCA(n_components=2)\n",
    "\n",
    "# Get two principal components for the iris data.\n",
    "iris_pca = pca.fit_transform(iris_scaled)\n",
    "\n"
   ]
  },
  {
   "cell_type": "code",
   "execution_count": 20,
   "metadata": {},
   "outputs": [
    {
     "data": {
      "text/html": [
       "<div>\n",
       "<style scoped>\n",
       "    .dataframe tbody tr th:only-of-type {\n",
       "        vertical-align: middle;\n",
       "    }\n",
       "\n",
       "    .dataframe tbody tr th {\n",
       "        vertical-align: top;\n",
       "    }\n",
       "\n",
       "    .dataframe thead th {\n",
       "        text-align: right;\n",
       "    }\n",
       "</style>\n",
       "<table border=\"1\" class=\"dataframe\">\n",
       "  <thead>\n",
       "    <tr style=\"text-align: right;\">\n",
       "      <th></th>\n",
       "      <th>principal component 1</th>\n",
       "      <th>principal component 2</th>\n",
       "    </tr>\n",
       "  </thead>\n",
       "  <tbody>\n",
       "    <tr>\n",
       "      <th>0</th>\n",
       "      <td>-2.264542</td>\n",
       "      <td>0.505704</td>\n",
       "    </tr>\n",
       "    <tr>\n",
       "      <th>1</th>\n",
       "      <td>-2.086426</td>\n",
       "      <td>-0.655405</td>\n",
       "    </tr>\n",
       "    <tr>\n",
       "      <th>2</th>\n",
       "      <td>-2.367950</td>\n",
       "      <td>-0.318477</td>\n",
       "    </tr>\n",
       "    <tr>\n",
       "      <th>3</th>\n",
       "      <td>-2.304197</td>\n",
       "      <td>-0.575368</td>\n",
       "    </tr>\n",
       "    <tr>\n",
       "      <th>4</th>\n",
       "      <td>-2.388777</td>\n",
       "      <td>0.674767</td>\n",
       "    </tr>\n",
       "  </tbody>\n",
       "</table>\n",
       "</div>"
      ],
      "text/plain": [
       "   principal component 1  principal component 2\n",
       "0              -2.264542               0.505704\n",
       "1              -2.086426              -0.655405\n",
       "2              -2.367950              -0.318477\n",
       "3              -2.304197              -0.575368\n",
       "4              -2.388777               0.674767"
      ]
     },
     "execution_count": 20,
     "metadata": {},
     "output_type": "execute_result"
    }
   ],
   "source": [
    "# Transform PCA data to a DataFrame\n",
    "df_iris_pca = pd.DataFrame(\n",
    "    data=iris_pca, columns=[\"principal component 1\", \"principal component 2\"]\n",
    ")\n",
    "df_iris_pca.head()\n",
    "\n"
   ]
  },
  {
   "cell_type": "code",
   "execution_count": 21,
   "metadata": {},
   "outputs": [
    {
     "data": {
      "text/plain": [
       "array([0.72770452, 0.23030523])"
      ]
     },
     "execution_count": 21,
     "metadata": {},
     "output_type": "execute_result"
    }
   ],
   "source": [
    "# Fetch the explained variance\n",
    "pca.explained_variance_ratio_\n"
   ]
  },
  {
   "cell_type": "markdown",
   "metadata": {},
   "source": [
    "## Running KMeans with PCA Data"
   ]
  },
  {
   "cell_type": "code",
   "execution_count": 22,
   "metadata": {},
   "outputs": [
    {
     "data": {
      "application/vnd.holoviews_exec.v0+json": "",
      "text/html": [
       "<div id='1371'>\n",
       "\n",
       "\n",
       "\n",
       "\n",
       "\n",
       "  <div class=\"bk-root\" id=\"55d7187a-198f-4996-885b-4260d83cf05d\" data-root-id=\"1371\"></div>\n",
       "</div>\n",
       "<script type=\"application/javascript\">(function(root) {\n",
       "  function embed_document(root) {\n",
       "  var docs_json = {\"3720cfb5-a6fe-48dc-abd6-a6f31c22ac62\":{\"roots\":{\"references\":[{\"attributes\":{\"end\":629.4464234300633,\"reset_end\":629.4464234300633,\"reset_start\":-26.240431703993533,\"start\":-26.240431703993533,\"tags\":[[[\"inertia\",\"inertia\",null]]]},\"id\":\"1374\",\"type\":\"Range1d\"},{\"attributes\":{\"data\":{\"inertia\":{\"__ndarray__\":\"aTafYnL2gUA2bWBmntZoQKumqsr9Bl1AkO/4E2huVkDl0qR94pNQQP/j3qojokxAlRm84Hb7R0CcL3dCGh9EQMdsY3u0F0BANerHi29mPEA=\",\"dtype\":\"float64\",\"order\":\"little\",\"shape\":[10]},\"k\":[1,2,3,4,5,6,7,8,9,10]},\"selected\":{\"id\":\"1407\"},\"selection_policy\":{\"id\":\"1426\"}},\"id\":\"1406\",\"type\":\"ColumnDataSource\"},{\"attributes\":{\"callback\":null,\"renderers\":[{\"id\":\"1412\"}],\"tags\":[\"hv_created\"],\"tooltips\":[[\"k\",\"@{k}\"],[\"inertia\",\"@{inertia}\"]]},\"id\":\"1375\",\"type\":\"HoverTool\"},{\"attributes\":{\"children\":[{\"id\":\"1372\"},{\"id\":\"1376\"},{\"id\":\"1435\"}],\"margin\":[0,0,0,0],\"name\":\"Row02326\",\"tags\":[\"embedded\"]},\"id\":\"1371\",\"type\":\"Row\"},{\"attributes\":{},\"id\":\"1381\",\"type\":\"LinearScale\"},{\"attributes\":{\"axis_label\":\"inertia\",\"bounds\":\"auto\",\"formatter\":{\"id\":\"1419\"},\"major_label_orientation\":\"horizontal\",\"ticker\":{\"id\":\"1390\"}},\"id\":\"1389\",\"type\":\"LinearAxis\"},{\"attributes\":{\"axis\":{\"id\":\"1385\"},\"grid_line_color\":null,\"ticker\":null},\"id\":\"1388\",\"type\":\"Grid\"},{\"attributes\":{},\"id\":\"1419\",\"type\":\"BasicTickFormatter\"},{\"attributes\":{\"margin\":[5,5,5,5],\"name\":\"HSpacer02330\",\"sizing_mode\":\"stretch_width\"},\"id\":\"1372\",\"type\":\"Spacer\"},{\"attributes\":{\"end\":10.0,\"reset_end\":10.0,\"reset_start\":1.0,\"start\":1.0,\"tags\":[[[\"k\",\"k\",null]]]},\"id\":\"1373\",\"type\":\"Range1d\"},{\"attributes\":{\"active_drag\":\"auto\",\"active_inspect\":\"auto\",\"active_multi\":null,\"active_scroll\":\"auto\",\"active_tap\":\"auto\",\"tools\":[{\"id\":\"1375\"},{\"id\":\"1393\"},{\"id\":\"1394\"},{\"id\":\"1395\"},{\"id\":\"1396\"},{\"id\":\"1397\"}]},\"id\":\"1399\",\"type\":\"Toolbar\"},{\"attributes\":{},\"id\":\"1390\",\"type\":\"BasicTicker\"},{\"attributes\":{\"axis\":{\"id\":\"1389\"},\"dimension\":1,\"grid_line_color\":null,\"ticker\":null},\"id\":\"1392\",\"type\":\"Grid\"},{\"attributes\":{\"source\":{\"id\":\"1406\"}},\"id\":\"1413\",\"type\":\"CDSView\"},{\"attributes\":{\"line_alpha\":0.2,\"line_color\":\"#1f77b3\",\"line_width\":2,\"x\":{\"field\":\"k\"},\"y\":{\"field\":\"inertia\"}},\"id\":\"1411\",\"type\":\"Line\"},{\"attributes\":{},\"id\":\"1407\",\"type\":\"Selection\"},{\"attributes\":{\"line_alpha\":0.1,\"line_color\":\"#1f77b3\",\"line_width\":2,\"x\":{\"field\":\"k\"},\"y\":{\"field\":\"inertia\"}},\"id\":\"1410\",\"type\":\"Line\"},{\"attributes\":{\"text\":\"Elbow Curve\",\"text_color\":{\"value\":\"black\"},\"text_font_size\":{\"value\":\"12pt\"}},\"id\":\"1377\",\"type\":\"Title\"},{\"attributes\":{\"ticks\":[1,2,3,4,5,6,7,8,9,10]},\"id\":\"1414\",\"type\":\"FixedTicker\"},{\"attributes\":{\"below\":[{\"id\":\"1385\"}],\"center\":[{\"id\":\"1388\"},{\"id\":\"1392\"}],\"left\":[{\"id\":\"1389\"}],\"margin\":null,\"min_border_bottom\":10,\"min_border_left\":10,\"min_border_right\":10,\"min_border_top\":10,\"plot_height\":300,\"plot_width\":700,\"renderers\":[{\"id\":\"1412\"}],\"sizing_mode\":\"fixed\",\"title\":{\"id\":\"1377\"},\"toolbar\":{\"id\":\"1399\"},\"x_range\":{\"id\":\"1373\"},\"x_scale\":{\"id\":\"1381\"},\"y_range\":{\"id\":\"1374\"},\"y_scale\":{\"id\":\"1383\"}},\"id\":\"1376\",\"subtype\":\"Figure\",\"type\":\"Plot\"},{\"attributes\":{},\"id\":\"1393\",\"type\":\"SaveTool\"},{\"attributes\":{},\"id\":\"1426\",\"type\":\"UnionRenderers\"},{\"attributes\":{},\"id\":\"1394\",\"type\":\"PanTool\"},{\"attributes\":{\"data_source\":{\"id\":\"1406\"},\"glyph\":{\"id\":\"1409\"},\"hover_glyph\":null,\"muted_glyph\":{\"id\":\"1411\"},\"nonselection_glyph\":{\"id\":\"1410\"},\"selection_glyph\":null,\"view\":{\"id\":\"1413\"}},\"id\":\"1412\",\"type\":\"GlyphRenderer\"},{\"attributes\":{},\"id\":\"1397\",\"type\":\"ResetTool\"},{\"attributes\":{\"margin\":[5,5,5,5],\"name\":\"HSpacer02331\",\"sizing_mode\":\"stretch_width\"},\"id\":\"1435\",\"type\":\"Spacer\"},{\"attributes\":{},\"id\":\"1395\",\"type\":\"WheelZoomTool\"},{\"attributes\":{\"bottom_units\":\"screen\",\"fill_alpha\":0.5,\"fill_color\":\"lightgrey\",\"left_units\":\"screen\",\"level\":\"overlay\",\"line_alpha\":1.0,\"line_color\":\"black\",\"line_dash\":[4,4],\"line_width\":2,\"right_units\":\"screen\",\"top_units\":\"screen\"},\"id\":\"1398\",\"type\":\"BoxAnnotation\"},{\"attributes\":{},\"id\":\"1383\",\"type\":\"LinearScale\"},{\"attributes\":{\"line_color\":\"#1f77b3\",\"line_width\":2,\"x\":{\"field\":\"k\"},\"y\":{\"field\":\"inertia\"}},\"id\":\"1409\",\"type\":\"Line\"},{\"attributes\":{\"overlay\":{\"id\":\"1398\"}},\"id\":\"1396\",\"type\":\"BoxZoomTool\"},{\"attributes\":{\"axis_label\":\"k\",\"bounds\":\"auto\",\"formatter\":{\"id\":\"1415\"},\"major_label_orientation\":\"horizontal\",\"ticker\":{\"id\":\"1414\"}},\"id\":\"1385\",\"type\":\"LinearAxis\"},{\"attributes\":{},\"id\":\"1415\",\"type\":\"BasicTickFormatter\"}],\"root_ids\":[\"1371\"]},\"title\":\"Bokeh Application\",\"version\":\"2.2.3\"}};\n",
       "  var render_items = [{\"docid\":\"3720cfb5-a6fe-48dc-abd6-a6f31c22ac62\",\"root_ids\":[\"1371\"],\"roots\":{\"1371\":\"55d7187a-198f-4996-885b-4260d83cf05d\"}}];\n",
       "  root.Bokeh.embed.embed_items_notebook(docs_json, render_items);\n",
       "  }\n",
       "if (root.Bokeh !== undefined) {\n",
       "    embed_document(root);\n",
       "  } else {\n",
       "    var attempts = 0;\n",
       "    var timer = setInterval(function(root) {\n",
       "      if (root.Bokeh !== undefined) {\n",
       "        clearInterval(timer);\n",
       "        embed_document(root);\n",
       "      } else if (document.readyState == \"complete\") {\n",
       "        attempts++;\n",
       "        if (attempts > 100) {\n",
       "          clearInterval(timer);\n",
       "          console.log(\"Bokeh: ERROR: Unable to run BokehJS code because BokehJS library is missing\");\n",
       "        }\n",
       "      }\n",
       "    }, 10, root)\n",
       "  }\n",
       "})(window);</script>"
      ],
      "text/plain": [
       ":Curve   [k]   (inertia)"
      ]
     },
     "execution_count": 22,
     "metadata": {
      "application/vnd.holoviews_exec.v0+json": {
       "id": "1371"
      }
     },
     "output_type": "execute_result"
    }
   ],
   "source": [
    "# Finding the best value for k\n",
    "inertia = []\n",
    "k = list(range(1, 11))\n",
    "\n",
    "# Calculate the inertia for the range of k values\n",
    "for i in k:\n",
    "    km = KMeans(n_clusters=i, random_state=0)\n",
    "    km.fit(df_iris_pca)\n",
    "    inertia.append(km.inertia_)\n",
    "\n",
    "# Creating the Elbow Curve\n",
    "elbow_data = {\"k\": k, \"inertia\": inertia}\n",
    "df_elbow = pd.DataFrame(elbow_data)\n",
    "df_elbow.hvplot.line(x=\"k\", y=\"inertia\", xticks=k, title=\"Elbow Curve\")\n",
    "\n"
   ]
  },
  {
   "cell_type": "code",
   "execution_count": 23,
   "metadata": {},
   "outputs": [
    {
     "data": {
      "text/html": [
       "<div>\n",
       "<style scoped>\n",
       "    .dataframe tbody tr th:only-of-type {\n",
       "        vertical-align: middle;\n",
       "    }\n",
       "\n",
       "    .dataframe tbody tr th {\n",
       "        vertical-align: top;\n",
       "    }\n",
       "\n",
       "    .dataframe thead th {\n",
       "        text-align: right;\n",
       "    }\n",
       "</style>\n",
       "<table border=\"1\" class=\"dataframe\">\n",
       "  <thead>\n",
       "    <tr style=\"text-align: right;\">\n",
       "      <th></th>\n",
       "      <th>principal component 1</th>\n",
       "      <th>principal component 2</th>\n",
       "      <th>class</th>\n",
       "    </tr>\n",
       "  </thead>\n",
       "  <tbody>\n",
       "    <tr>\n",
       "      <th>0</th>\n",
       "      <td>-2.264542</td>\n",
       "      <td>0.505704</td>\n",
       "      <td>1</td>\n",
       "    </tr>\n",
       "    <tr>\n",
       "      <th>1</th>\n",
       "      <td>-2.086426</td>\n",
       "      <td>-0.655405</td>\n",
       "      <td>1</td>\n",
       "    </tr>\n",
       "    <tr>\n",
       "      <th>2</th>\n",
       "      <td>-2.367950</td>\n",
       "      <td>-0.318477</td>\n",
       "      <td>1</td>\n",
       "    </tr>\n",
       "    <tr>\n",
       "      <th>3</th>\n",
       "      <td>-2.304197</td>\n",
       "      <td>-0.575368</td>\n",
       "      <td>1</td>\n",
       "    </tr>\n",
       "    <tr>\n",
       "      <th>4</th>\n",
       "      <td>-2.388777</td>\n",
       "      <td>0.674767</td>\n",
       "      <td>1</td>\n",
       "    </tr>\n",
       "  </tbody>\n",
       "</table>\n",
       "</div>"
      ],
      "text/plain": [
       "   principal component 1  principal component 2  class\n",
       "0              -2.264542               0.505704      1\n",
       "1              -2.086426              -0.655405      1\n",
       "2              -2.367950              -0.318477      1\n",
       "3              -2.304197              -0.575368      1\n",
       "4              -2.388777               0.674767      1"
      ]
     },
     "execution_count": 23,
     "metadata": {},
     "output_type": "execute_result"
    }
   ],
   "source": [
    "# Predicting clusters with k=3\n",
    "\n",
    "# Initialize the K-Means model\n",
    "model = KMeans(n_clusters=3, random_state=0)\n",
    "\n",
    "# Fit the model\n",
    "model.fit(df_iris_pca)\n",
    "\n",
    "# Predict clusters\n",
    "predictions = model.predict(df_iris_pca)\n",
    "\n",
    "# Add the predicted class columns\n",
    "df_iris_pca[\"class\"] = model.labels_\n",
    "df_iris_pca.head()\n",
    "\n"
   ]
  },
  {
   "cell_type": "code",
   "execution_count": 24,
   "metadata": {},
   "outputs": [
    {
     "data": {
      "application/vnd.holoviews_exec.v0+json": "",
      "text/html": [
       "<div id='1472'>\n",
       "\n",
       "\n",
       "\n",
       "\n",
       "\n",
       "  <div class=\"bk-root\" id=\"edf28ae3-d258-40d8-80dd-598eaa3994f8\" data-root-id=\"1472\"></div>\n",
       "</div>\n",
       "<script type=\"application/javascript\">(function(root) {\n",
       "  function embed_document(root) {\n",
       "  var docs_json = {\"d0f7ef32-e394-4df6-812a-e45fa5bbaf00\":{\"roots\":{\"references\":[{\"attributes\":{},\"id\":\"1493\",\"type\":\"BasicTicker\"},{\"attributes\":{},\"id\":\"1547\",\"type\":\"UnionRenderers\"},{\"attributes\":{\"margin\":[5,5,5,5],\"name\":\"HSpacer02561\",\"sizing_mode\":\"stretch_width\"},\"id\":\"1473\",\"type\":\"Spacer\"},{\"attributes\":{\"axis_label\":\"principal component 2\",\"bounds\":\"auto\",\"formatter\":{\"id\":\"1511\"},\"major_label_orientation\":\"horizontal\",\"ticker\":{\"id\":\"1493\"}},\"id\":\"1492\",\"type\":\"LinearAxis\"},{\"attributes\":{\"active_drag\":\"auto\",\"active_inspect\":\"auto\",\"active_multi\":null,\"active_scroll\":\"auto\",\"active_tap\":\"auto\",\"tools\":[{\"id\":\"1476\"},{\"id\":\"1496\"},{\"id\":\"1497\"},{\"id\":\"1498\"},{\"id\":\"1499\"},{\"id\":\"1500\"}]},\"id\":\"1502\",\"type\":\"Toolbar\"},{\"attributes\":{\"fill_alpha\":{\"value\":0.1},\"fill_color\":{\"value\":\"#1f77b3\"},\"line_alpha\":{\"value\":0.1},\"line_color\":{\"value\":\"#1f77b3\"},\"size\":{\"units\":\"screen\",\"value\":5.477225575051661},\"x\":{\"field\":\"principal component 1\"},\"y\":{\"field\":\"principal component 2\"}},\"id\":\"1517\",\"type\":\"Scatter\"},{\"attributes\":{\"source\":{\"id\":\"1513\"}},\"id\":\"1520\",\"type\":\"CDSView\"},{\"attributes\":{\"fill_alpha\":{\"value\":0.2},\"fill_color\":{\"value\":\"#2ba02b\"},\"line_alpha\":{\"value\":0.2},\"line_color\":{\"value\":\"#2ba02b\"},\"size\":{\"units\":\"screen\",\"value\":5.477225575051661},\"x\":{\"field\":\"principal component 1\"},\"y\":{\"field\":\"principal component 2\"}},\"id\":\"1555\",\"type\":\"Scatter\"},{\"attributes\":{\"fill_color\":{\"value\":\"#2ba02b\"},\"line_color\":{\"value\":\"#2ba02b\"},\"size\":{\"units\":\"screen\",\"value\":5.477225575051661},\"x\":{\"field\":\"principal component 1\"},\"y\":{\"field\":\"principal component 2\"}},\"id\":\"1553\",\"type\":\"Scatter\"},{\"attributes\":{\"fill_color\":{\"value\":\"#1f77b3\"},\"line_color\":{\"value\":\"#1f77b3\"},\"size\":{\"units\":\"screen\",\"value\":5.477225575051661},\"x\":{\"field\":\"principal component 1\"},\"y\":{\"field\":\"principal component 2\"}},\"id\":\"1516\",\"type\":\"Scatter\"},{\"attributes\":{\"data\":{\"class\":{\"__ndarray__\":\"AQAAAAEAAAABAAAAAQAAAAEAAAABAAAAAQAAAAEAAAABAAAAAQAAAAEAAAABAAAAAQAAAAEAAAABAAAAAQAAAAEAAAABAAAAAQAAAAEAAAABAAAAAQAAAAEAAAABAAAAAQAAAAEAAAABAAAAAQAAAAEAAAABAAAAAQAAAAEAAAABAAAAAQAAAAEAAAABAAAAAQAAAAEAAAABAAAAAQAAAAEAAAABAAAAAQAAAAEAAAABAAAAAQAAAAEAAAABAAAAAQAAAAEAAAA=\",\"dtype\":\"int32\",\"order\":\"little\",\"shape\":[50]},\"principal component 1\":{\"__ndarray__\":\"RxG/DcgdAsCfflXa/7AAwC8tSgGQ8QLArnjV6/5uAsCAOOBfNxwDwLMJAJp1kADA7VhZG9GQA8C6vPx66N4BwLrvZ05UvALA5NUzb2iCAcDHACQK0k4BwIGPWzp4ngLAbUHW4evKAcBzYBiPIx4FwOJkYiHQiQHA78LFMQADAsDEicmkO58BwNTnRqd8hQHAE7KL2CBO/r9wMd43N7gCwDou6+IFov6/KnpNIB2jAcAlHszufzEGwHSyHOBnIP2/dG9EsmPTAcBqStBn+E//v+oJWiugagDA0RcE6nVYAcD06Z27WB8BwCUNM3l7JgLA4OURJwwoAcCyCNRTnk/9v3iUD3eZ3QTAyYxIYeyAA8Dk1TNvaIIBwAfB4qBfsAHAqgtPDPdaAMDk1TNvaIIBwJ/dMoLUfAPAVSP02UddAcA94QHLzkoCwGNzDEaD8v2/Yflj5HF2BMD8iQQfsG3/v/mHnMYlEQHAoe7lFFWaAMDS+qMb0QwDwJNmoB9/LwPALZosq3LQAcDejpZMy6UBwA==\",\"dtype\":\"float64\",\"order\":\"little\",\"shape\":[50]},\"principal component 2\":{\"__ndarray__\":\"be9787ku4D/1F8lWE/nkv2vYpqjuYdS/ECSQjGlp4r/X0afLsZflP72+IZP5S/g/QiSoGooWsz99eXQ10LHPP9AIOjG4hfG/iE6pnFa23L9qMKXTKCHxPzK/qP2XTMQ/pao3kBix5r+LiXLvZwbuv92ryBtaPf4/lbWrfGrHBUBijF03Ujj4Pzj+/04udeA/9Uk0V9Tl9j8ppZIPTofyP3DAlsG9jNs/3/KSxId67j9Gu+o4P1TfPxvWDBwFVLs/Ue1BJITCxD+3YRod23Pjv2+qjuRgBtE/cYxIfx6q4T/gGaA2hIvVP15BWpX4JtS/RwayRej43r8Qlx54QH/cP7xxJTRvQf0/x7Jwma57AUCITqmcVrbcvxnn16FhmMe/tOVDvSnr5T+ITqmcVrbcv3rEP1q7Ouy/eUSP1gm80j9ZwmaGk/PdP4B/28YcnwLAqO8l3FML3b9pssu+Q9XfP+/eGJkvvvI/+4wv2S8k5r9VqsG4/WjyP9WttwhpMde/ee6vZGBo8D/n7UmWeoGgPw==\",\"dtype\":\"float64\",\"order\":\"little\",\"shape\":[50]},\"principal_component_1\":{\"__ndarray__\":\"RxG/DcgdAsCfflXa/7AAwC8tSgGQ8QLArnjV6/5uAsCAOOBfNxwDwLMJAJp1kADA7VhZG9GQA8C6vPx66N4BwLrvZ05UvALA5NUzb2iCAcDHACQK0k4BwIGPWzp4ngLAbUHW4evKAcBzYBiPIx4FwOJkYiHQiQHA78LFMQADAsDEicmkO58BwNTnRqd8hQHAE7KL2CBO/r9wMd43N7gCwDou6+IFov6/KnpNIB2jAcAlHszufzEGwHSyHOBnIP2/dG9EsmPTAcBqStBn+E//v+oJWiugagDA0RcE6nVYAcD06Z27WB8BwCUNM3l7JgLA4OURJwwoAcCyCNRTnk/9v3iUD3eZ3QTAyYxIYeyAA8Dk1TNvaIIBwAfB4qBfsAHAqgtPDPdaAMDk1TNvaIIBwJ/dMoLUfAPAVSP02UddAcA94QHLzkoCwGNzDEaD8v2/Yflj5HF2BMD8iQQfsG3/v/mHnMYlEQHAoe7lFFWaAMDS+qMb0QwDwJNmoB9/LwPALZosq3LQAcDejpZMy6UBwA==\",\"dtype\":\"float64\",\"order\":\"little\",\"shape\":[50]},\"principal_component_2\":{\"__ndarray__\":\"be9787ku4D/1F8lWE/nkv2vYpqjuYdS/ECSQjGlp4r/X0afLsZflP72+IZP5S/g/QiSoGooWsz99eXQ10LHPP9AIOjG4hfG/iE6pnFa23L9qMKXTKCHxPzK/qP2XTMQ/pao3kBix5r+LiXLvZwbuv92ryBtaPf4/lbWrfGrHBUBijF03Ujj4Pzj+/04udeA/9Uk0V9Tl9j8ppZIPTofyP3DAlsG9jNs/3/KSxId67j9Gu+o4P1TfPxvWDBwFVLs/Ue1BJITCxD+3YRod23Pjv2+qjuRgBtE/cYxIfx6q4T/gGaA2hIvVP15BWpX4JtS/RwayRej43r8Qlx54QH/cP7xxJTRvQf0/x7Jwma57AUCITqmcVrbcvxnn16FhmMe/tOVDvSnr5T+ITqmcVrbcv3rEP1q7Ouy/eUSP1gm80j9ZwmaGk/PdP4B/28YcnwLAqO8l3FML3b9pssu+Q9XfP+/eGJkvvvI/+4wv2S8k5r9VqsG4/WjyP9WttwhpMde/ee6vZGBo8D/n7UmWeoGgPw==\",\"dtype\":\"float64\",\"order\":\"little\",\"shape\":[50]}},\"selected\":{\"id\":\"1532\"},\"selection_policy\":{\"id\":\"1547\"}},\"id\":\"1531\",\"type\":\"ColumnDataSource\"},{\"attributes\":{\"source\":{\"id\":\"1531\"}},\"id\":\"1538\",\"type\":\"CDSView\"},{\"attributes\":{\"bottom_units\":\"screen\",\"fill_alpha\":0.5,\"fill_color\":\"lightgrey\",\"left_units\":\"screen\",\"level\":\"overlay\",\"line_alpha\":1.0,\"line_color\":\"black\",\"line_dash\":[4,4],\"line_width\":2,\"right_units\":\"screen\",\"top_units\":\"screen\"},\"id\":\"1501\",\"type\":\"BoxAnnotation\"},{\"attributes\":{},\"id\":\"1511\",\"type\":\"BasicTickFormatter\"},{\"attributes\":{},\"id\":\"1484\",\"type\":\"LinearScale\"},{\"attributes\":{\"fill_alpha\":{\"value\":0.2},\"fill_color\":{\"value\":\"#ff7e0e\"},\"line_alpha\":{\"value\":0.2},\"line_color\":{\"value\":\"#ff7e0e\"},\"size\":{\"units\":\"screen\",\"value\":5.477225575051661},\"x\":{\"field\":\"principal component 1\"},\"y\":{\"field\":\"principal component 2\"}},\"id\":\"1536\",\"type\":\"Scatter\"},{\"attributes\":{\"fill_alpha\":{\"value\":0.2},\"fill_color\":{\"value\":\"#1f77b3\"},\"line_alpha\":{\"value\":0.2},\"line_color\":{\"value\":\"#1f77b3\"},\"size\":{\"units\":\"screen\",\"value\":5.477225575051661},\"x\":{\"field\":\"principal component 1\"},\"y\":{\"field\":\"principal component 2\"}},\"id\":\"1518\",\"type\":\"Scatter\"},{\"attributes\":{},\"id\":\"1551\",\"type\":\"Selection\"},{\"attributes\":{\"axis_label\":\"principal component 1\",\"bounds\":\"auto\",\"formatter\":{\"id\":\"1509\"},\"major_label_orientation\":\"horizontal\",\"ticker\":{\"id\":\"1489\"}},\"id\":\"1488\",\"type\":\"LinearAxis\"},{\"attributes\":{\"margin\":[5,5,5,5],\"name\":\"HSpacer02562\",\"sizing_mode\":\"stretch_width\"},\"id\":\"1679\",\"type\":\"Spacer\"},{\"attributes\":{\"data_source\":{\"id\":\"1513\"},\"glyph\":{\"id\":\"1516\"},\"hover_glyph\":null,\"muted_glyph\":{\"id\":\"1518\"},\"nonselection_glyph\":{\"id\":\"1517\"},\"selection_glyph\":null,\"view\":{\"id\":\"1520\"}},\"id\":\"1519\",\"type\":\"GlyphRenderer\"},{\"attributes\":{},\"id\":\"1532\",\"type\":\"Selection\"},{\"attributes\":{\"data_source\":{\"id\":\"1531\"},\"glyph\":{\"id\":\"1534\"},\"hover_glyph\":null,\"muted_glyph\":{\"id\":\"1536\"},\"nonselection_glyph\":{\"id\":\"1535\"},\"selection_glyph\":null,\"view\":{\"id\":\"1538\"}},\"id\":\"1537\",\"type\":\"GlyphRenderer\"},{\"attributes\":{},\"id\":\"1496\",\"type\":\"SaveTool\"},{\"attributes\":{},\"id\":\"1497\",\"type\":\"PanTool\"},{\"attributes\":{\"label\":{\"value\":\"1\"},\"renderers\":[{\"id\":\"1537\"}]},\"id\":\"1549\",\"type\":\"LegendItem\"},{\"attributes\":{},\"id\":\"1500\",\"type\":\"ResetTool\"},{\"attributes\":{},\"id\":\"1498\",\"type\":\"WheelZoomTool\"},{\"attributes\":{\"below\":[{\"id\":\"1488\"}],\"center\":[{\"id\":\"1491\"},{\"id\":\"1495\"}],\"left\":[{\"id\":\"1492\"}],\"margin\":null,\"min_border_bottom\":10,\"min_border_left\":10,\"min_border_right\":10,\"min_border_top\":10,\"plot_height\":300,\"plot_width\":700,\"renderers\":[{\"id\":\"1519\"},{\"id\":\"1537\"},{\"id\":\"1556\"}],\"right\":[{\"id\":\"1529\"}],\"sizing_mode\":\"fixed\",\"title\":{\"id\":\"1480\"},\"toolbar\":{\"id\":\"1502\"},\"x_range\":{\"id\":\"1474\"},\"x_scale\":{\"id\":\"1484\"},\"y_range\":{\"id\":\"1475\"},\"y_scale\":{\"id\":\"1486\"}},\"id\":\"1479\",\"subtype\":\"Figure\",\"type\":\"Plot\"},{\"attributes\":{\"overlay\":{\"id\":\"1501\"}},\"id\":\"1499\",\"type\":\"BoxZoomTool\"},{\"attributes\":{},\"id\":\"1514\",\"type\":\"Selection\"},{\"attributes\":{\"callback\":null,\"renderers\":[{\"id\":\"1519\"},{\"id\":\"1537\"},{\"id\":\"1556\"}],\"tags\":[\"hv_created\"],\"tooltips\":[[\"class\",\"@{class}\"],[\"principal component 1\",\"@{principal_component_1}\"],[\"principal component 2\",\"@{principal_component_2}\"]]},\"id\":\"1476\",\"type\":\"HoverTool\"},{\"attributes\":{\"text\":\"\",\"text_color\":{\"value\":\"black\"},\"text_font_size\":{\"value\":\"12pt\"}},\"id\":\"1480\",\"type\":\"Title\"},{\"attributes\":{},\"id\":\"1486\",\"type\":\"LinearScale\"},{\"attributes\":{\"label\":{\"value\":\"2\"},\"renderers\":[{\"id\":\"1556\"}]},\"id\":\"1570\",\"type\":\"LegendItem\"},{\"attributes\":{\"click_policy\":\"mute\",\"items\":[{\"id\":\"1530\"},{\"id\":\"1549\"},{\"id\":\"1570\"}],\"location\":[0,0],\"title\":\"class\"},\"id\":\"1529\",\"type\":\"Legend\"},{\"attributes\":{\"end\":3.5698545102352774,\"reset_end\":3.5698545102352774,\"reset_start\":-3.034883121264354,\"start\":-3.034883121264354,\"tags\":[[[\"principal component 1\",\"principal component 1\",null]]]},\"id\":\"1474\",\"type\":\"Range1d\"},{\"attributes\":{\"data\":{\"class\":{\"__ndarray__\":\"AAAAAAAAAAAAAAAAAAAAAAAAAAAAAAAAAAAAAAAAAAAAAAAAAAAAAAAAAAAAAAAAAAAAAAAAAAAAAAAAAAAAAAAAAAAAAAAAAAAAAAAAAAAAAAAAAAAAAAAAAAAAAAAAAAAAAAAAAAAAAAAAAAAAAAAAAAAAAAAAAAAAAAAAAAAAAAAAAAAAAAAAAAAAAAAAAAAAAAAAAAAAAAAAAAAAAAAAAAAAAAAAAAAAAAAAAAAAAAAAAAAAAAAAAAA=\",\"dtype\":\"int32\",\"order\":\"little\",\"shape\":[47]},\"principal component 1\":{\"__ndarray__\":\"dJicP/Wp8T/pdLjqfHDnP0tUdjeu3/M/kH2nUXn15z+Ct9eWSwfsPwPqCkTLn+c/bYkX1wP06z/tYaNJSxH0PxdwyrRZu/U/XiqW1lWi2z+mboqoZcrwP2JoZCMRkP0/XqOtkJqmAUCvkwP82gT3P8Oof1zh4v0/dUK5SJgIBkDmZzhbjmwCQPYm68uNAwBAIU9oqvMjAkBti3vYw9r1P60QOb/Elfk/PK6UReUl/j8Y0QQIDXj5P3kdkBhdivc/QfYnSsB/A0A1hisDH3kKQJfn9rPvUgBAOi4taDwvB0BCqLnnkUT7P6kJnj3aUv8/HtLu7wVR8D+f2hYHfpP8P4EbVl0h1v0/ivhsDuZ7A0AztjE3VocCQGotB9QUxP0/kU42KVhoBkCy+a/eUEj5P+/OTXR+jfU/PgUQICao/T8PDMQGFyEAQLpqwqkqc/4/Og5TGLJYAEC5eb2NdgMAQPHgNY2o7f0/+IJComFV+D8O9OTEsgX2Pw==\",\"dtype\":\"float64\",\"order\":\"little\",\"shape\":[47]},\"principal component 2\":{\"__ndarray__\":\"3Xb2/Z2e6z8ePDfKBSjjP9zNPSGgrOM/t1+rWRnr6D9lOXqk51HgP5FBqiETwtk/Yp7yIJwL0D/+h7BClya1v0UteShkC9U/Egg+Gkhd6z/Ck6QJ17XgP4Msy2Xw5Os/C8TpFji+4T+clDOr+pqpv+9EGSLnotI/pQetLdY66T9WO0mDhTXaP7KQnq/nKee/wo2XATu+/j81oQKF0jTmP3B9L85taNu/cadDi22E2j8yfGgVRqrlPzQ3rDJONNA/gzlsMT10BECwiqQTDFhjv0N0hSJpCe0/cZKR42l12T+SWt+y8znwP5+AK36oDfA/Zaj7cmzHsD/svEvBKb3Iv5PkXX2vxeE/1l7ipF+Szz8m4TWwbAIFQJaBO1NYo8e/Tys1XS0I6z+mj2oE2yjxPx78A+M9Bts/v6TAq3yE5T/a+zteX4jjP+J2Ilnq8+U/vSJfoH+r6z88eOdp3MbwP/pDMiongNg/ettvjSkT0T8eLdG5BEPwPw==\",\"dtype\":\"float64\",\"order\":\"little\",\"shape\":[47]},\"principal_component_1\":{\"__ndarray__\":\"dJicP/Wp8T/pdLjqfHDnP0tUdjeu3/M/kH2nUXn15z+Ct9eWSwfsPwPqCkTLn+c/bYkX1wP06z/tYaNJSxH0PxdwyrRZu/U/XiqW1lWi2z+mboqoZcrwP2JoZCMRkP0/XqOtkJqmAUCvkwP82gT3P8Oof1zh4v0/dUK5SJgIBkDmZzhbjmwCQPYm68uNAwBAIU9oqvMjAkBti3vYw9r1P60QOb/Elfk/PK6UReUl/j8Y0QQIDXj5P3kdkBhdivc/QfYnSsB/A0A1hisDH3kKQJfn9rPvUgBAOi4taDwvB0BCqLnnkUT7P6kJnj3aUv8/HtLu7wVR8D+f2hYHfpP8P4EbVl0h1v0/ivhsDuZ7A0AztjE3VocCQGotB9QUxP0/kU42KVhoBkCy+a/eUEj5P+/OTXR+jfU/PgUQICao/T8PDMQGFyEAQLpqwqkqc/4/Og5TGLJYAEC5eb2NdgMAQPHgNY2o7f0/+IJComFV+D8O9OTEsgX2Pw==\",\"dtype\":\"float64\",\"order\":\"little\",\"shape\":[47]},\"principal_component_2\":{\"__ndarray__\":\"3Xb2/Z2e6z8ePDfKBSjjP9zNPSGgrOM/t1+rWRnr6D9lOXqk51HgP5FBqiETwtk/Yp7yIJwL0D/+h7BClya1v0UteShkC9U/Egg+Gkhd6z/Ck6QJ17XgP4Msy2Xw5Os/C8TpFji+4T+clDOr+pqpv+9EGSLnotI/pQetLdY66T9WO0mDhTXaP7KQnq/nKee/wo2XATu+/j81oQKF0jTmP3B9L85taNu/cadDi22E2j8yfGgVRqrlPzQ3rDJONNA/gzlsMT10BECwiqQTDFhjv0N0hSJpCe0/cZKR42l12T+SWt+y8znwP5+AK36oDfA/Zaj7cmzHsD/svEvBKb3Iv5PkXX2vxeE/1l7ipF+Szz8m4TWwbAIFQJaBO1NYo8e/Tys1XS0I6z+mj2oE2yjxPx78A+M9Bts/v6TAq3yE5T/a+zteX4jjP+J2Ilnq8+U/vSJfoH+r6z88eOdp3MbwP/pDMiongNg/ettvjSkT0T8eLdG5BEPwPw==\",\"dtype\":\"float64\",\"order\":\"little\",\"shape\":[47]}},\"selected\":{\"id\":\"1514\"},\"selection_policy\":{\"id\":\"1527\"}},\"id\":\"1513\",\"type\":\"ColumnDataSource\"},{\"attributes\":{\"label\":{\"value\":\"0\"},\"renderers\":[{\"id\":\"1519\"}]},\"id\":\"1530\",\"type\":\"LegendItem\"},{\"attributes\":{\"children\":[{\"id\":\"1473\"},{\"id\":\"1479\"},{\"id\":\"1679\"}],\"margin\":[0,0,0,0],\"name\":\"Row02557\",\"tags\":[\"embedded\"]},\"id\":\"1472\",\"type\":\"Row\"},{\"attributes\":{\"data_source\":{\"id\":\"1550\"},\"glyph\":{\"id\":\"1553\"},\"hover_glyph\":null,\"muted_glyph\":{\"id\":\"1555\"},\"nonselection_glyph\":{\"id\":\"1554\"},\"selection_glyph\":null,\"view\":{\"id\":\"1557\"}},\"id\":\"1556\",\"type\":\"GlyphRenderer\"},{\"attributes\":{\"fill_color\":{\"value\":\"#ff7e0e\"},\"line_color\":{\"value\":\"#ff7e0e\"},\"size\":{\"units\":\"screen\",\"value\":5.477225575051661},\"x\":{\"field\":\"principal component 1\"},\"y\":{\"field\":\"principal component 2\"}},\"id\":\"1534\",\"type\":\"Scatter\"},{\"attributes\":{\"fill_alpha\":{\"value\":0.1},\"fill_color\":{\"value\":\"#ff7e0e\"},\"line_alpha\":{\"value\":0.1},\"line_color\":{\"value\":\"#ff7e0e\"},\"size\":{\"units\":\"screen\",\"value\":5.477225575051661},\"x\":{\"field\":\"principal component 1\"},\"y\":{\"field\":\"principal component 2\"}},\"id\":\"1535\",\"type\":\"Scatter\"},{\"attributes\":{},\"id\":\"1568\",\"type\":\"UnionRenderers\"},{\"attributes\":{},\"id\":\"1489\",\"type\":\"BasicTicker\"},{\"attributes\":{\"axis\":{\"id\":\"1492\"},\"dimension\":1,\"grid_line_color\":null,\"ticker\":null},\"id\":\"1495\",\"type\":\"Grid\"},{\"attributes\":{\"end\":3.260414452028094,\"reset_end\":3.260414452028094,\"reset_start\":-3.1961060534153853,\"start\":-3.1961060534153853,\"tags\":[[[\"principal component 2\",\"principal component 2\",null]]]},\"id\":\"1475\",\"type\":\"Range1d\"},{\"attributes\":{\"data\":{\"class\":{\"__ndarray__\":\"AgAAAAIAAAACAAAAAgAAAAIAAAACAAAAAgAAAAIAAAACAAAAAgAAAAIAAAACAAAAAgAAAAIAAAACAAAAAgAAAAIAAAACAAAAAgAAAAIAAAACAAAAAgAAAAIAAAACAAAAAgAAAAIAAAACAAAAAgAAAAIAAAACAAAAAgAAAAIAAAACAAAAAgAAAAIAAAACAAAAAgAAAAIAAAACAAAAAgAAAAIAAAACAAAAAgAAAAIAAAACAAAAAgAAAAIAAAACAAAAAgAAAAIAAAACAAAAAgAAAAIAAAA=\",\"dtype\":\"int32\",\"order\":\"little\",\"shape\":[53]},\"principal component 1\":{\"__ndarray__\":\"fRWMhntt2T9KnJZFWCnxP2mBHlf2mtg/8v4dZv7c3791GywXnaPtP36/kDZaWXQ/AN6FPizsv7+wz+h8JxTcP1lNsk78puE/O0UqJwTz5j/Lz63ghxOjv5Nu06S8RdY/5rIv7V2iwz9n6iTH4XHzPyvYZACmFsQ/Xa1SDE473j8SyjX41qXzP40xy7fjI+Q/HtCK7kVq5j8fhVUnIzDlP78b1FJINai/Rz98rN0cvz8AkFg5BOqMPyPf6GWaNc4/Ds1ZRTXo8D+VsJMoZVfMP9Kbvwf1kvA/pV4TnFcrsT91NwN1kKDRP8l9yQ7wbdE/pY3+VwPx4z+33kvRzh7VP8nEFNWD6de/1STllsIb0j8oX21EL8y2PwAkQhu5t8w/9QRG5kBd4j/ijFDrsj/dv+CA0gDGJNA/3l8IKHdz8j/soUp+m+/WP1v35HGkDPQ/GuKIxsts9z/+RPpdThD0P4titwdQKu8/9YqkmmBE9T9ifP3wHsDyP+D2a9zEx/E/KjazatUo8z+YvvFQw4ztP95fCCh3c/I/TNVbMZXv+D832SvtkrLuPw==\",\"dtype\":\"float64\",\"order\":\"little\",\"shape\":[53]},\"principal component 2\":{\"__ndarray__\":\"lM0hw3Uh/L+NAFcJ4hrLv/UVlNb76eK/aZSza/eU/b98jGFUCw+fP+vLA01tePC/94KEXbZDBcDH9gYTsCWuv03NqHx+XPy/3Hstxk+8x781LLY26rLbvxW+JkVKZsi/mInUeJ9N6b9l5T6HOSL6v79Ai9CC2fS/twipiLWp2r9Jr8dW+Rvuv+jFU70Krdq/BTfCViNBsL9oGdg+X7fMv2oFEZBX6vC/b8J8cXkE+b9w1i92nSz5v0iekB1e1Oi/EC0SzX5h5L+Cbj2aaPnRv72Ls++KR/a/lcdo/yc3y79CZwsN7Ub1vykJ/oM76fG/4cUd1SI0nD9u68QlE6Xvv9HC5Ku5JADAqks7dJBT67+wjkY+Z2PGv1L2R1TcWdi/fzq1mhitw7+5+86JpaH4v6p6HI5KEeO/UwhbdkNx5r9Dlg29Jfb4v5QxaImirfK/ta9g7els3L9VKnQyOXv7v0vNWXwPR+K/SGwdsBUn37/J2YlbzWjUv/+TgLFv8dK/Ta/b9jwm6r8pAFtSILGTP1MIW3ZDcea/xlrVOlT47L+cCiw2mtGWvw==\",\"dtype\":\"float64\",\"order\":\"little\",\"shape\":[53]},\"principal_component_1\":{\"__ndarray__\":\"fRWMhntt2T9KnJZFWCnxP2mBHlf2mtg/8v4dZv7c3791GywXnaPtP36/kDZaWXQ/AN6FPizsv7+wz+h8JxTcP1lNsk78puE/O0UqJwTz5j/Lz63ghxOjv5Nu06S8RdY/5rIv7V2iwz9n6iTH4XHzPyvYZACmFsQ/Xa1SDE473j8SyjX41qXzP40xy7fjI+Q/HtCK7kVq5j8fhVUnIzDlP78b1FJINai/Rz98rN0cvz8AkFg5BOqMPyPf6GWaNc4/Ds1ZRTXo8D+VsJMoZVfMP9Kbvwf1kvA/pV4TnFcrsT91NwN1kKDRP8l9yQ7wbdE/pY3+VwPx4z+33kvRzh7VP8nEFNWD6de/1STllsIb0j8oX21EL8y2PwAkQhu5t8w/9QRG5kBd4j/ijFDrsj/dv+CA0gDGJNA/3l8IKHdz8j/soUp+m+/WP1v35HGkDPQ/GuKIxsts9z/+RPpdThD0P4titwdQKu8/9YqkmmBE9T9ifP3wHsDyP+D2a9zEx/E/KjazatUo8z+YvvFQw4ztP95fCCh3c/I/TNVbMZXv+D832SvtkrLuPw==\",\"dtype\":\"float64\",\"order\":\"little\",\"shape\":[53]},\"principal_component_2\":{\"__ndarray__\":\"lM0hw3Uh/L+NAFcJ4hrLv/UVlNb76eK/aZSza/eU/b98jGFUCw+fP+vLA01tePC/94KEXbZDBcDH9gYTsCWuv03NqHx+XPy/3Hstxk+8x781LLY26rLbvxW+JkVKZsi/mInUeJ9N6b9l5T6HOSL6v79Ai9CC2fS/twipiLWp2r9Jr8dW+Rvuv+jFU70Krdq/BTfCViNBsL9oGdg+X7fMv2oFEZBX6vC/b8J8cXkE+b9w1i92nSz5v0iekB1e1Oi/EC0SzX5h5L+Cbj2aaPnRv72Ls++KR/a/lcdo/yc3y79CZwsN7Ub1vykJ/oM76fG/4cUd1SI0nD9u68QlE6Xvv9HC5Ku5JADAqks7dJBT67+wjkY+Z2PGv1L2R1TcWdi/fzq1mhitw7+5+86JpaH4v6p6HI5KEeO/UwhbdkNx5r9Dlg29Jfb4v5QxaImirfK/ta9g7els3L9VKnQyOXv7v0vNWXwPR+K/SGwdsBUn37/J2YlbzWjUv/+TgLFv8dK/Ta/b9jwm6r8pAFtSILGTP1MIW3ZDcea/xlrVOlT47L+cCiw2mtGWvw==\",\"dtype\":\"float64\",\"order\":\"little\",\"shape\":[53]}},\"selected\":{\"id\":\"1551\"},\"selection_policy\":{\"id\":\"1568\"}},\"id\":\"1550\",\"type\":\"ColumnDataSource\"},{\"attributes\":{},\"id\":\"1527\",\"type\":\"UnionRenderers\"},{\"attributes\":{\"axis\":{\"id\":\"1488\"},\"grid_line_color\":null,\"ticker\":null},\"id\":\"1491\",\"type\":\"Grid\"},{\"attributes\":{},\"id\":\"1509\",\"type\":\"BasicTickFormatter\"},{\"attributes\":{\"fill_alpha\":{\"value\":0.1},\"fill_color\":{\"value\":\"#2ba02b\"},\"line_alpha\":{\"value\":0.1},\"line_color\":{\"value\":\"#2ba02b\"},\"size\":{\"units\":\"screen\",\"value\":5.477225575051661},\"x\":{\"field\":\"principal component 1\"},\"y\":{\"field\":\"principal component 2\"}},\"id\":\"1554\",\"type\":\"Scatter\"},{\"attributes\":{\"source\":{\"id\":\"1550\"}},\"id\":\"1557\",\"type\":\"CDSView\"}],\"root_ids\":[\"1472\"]},\"title\":\"Bokeh Application\",\"version\":\"2.2.3\"}};\n",
       "  var render_items = [{\"docid\":\"d0f7ef32-e394-4df6-812a-e45fa5bbaf00\",\"root_ids\":[\"1472\"],\"roots\":{\"1472\":\"edf28ae3-d258-40d8-80dd-598eaa3994f8\"}}];\n",
       "  root.Bokeh.embed.embed_items_notebook(docs_json, render_items);\n",
       "  }\n",
       "if (root.Bokeh !== undefined) {\n",
       "    embed_document(root);\n",
       "  } else {\n",
       "    var attempts = 0;\n",
       "    var timer = setInterval(function(root) {\n",
       "      if (root.Bokeh !== undefined) {\n",
       "        clearInterval(timer);\n",
       "        embed_document(root);\n",
       "      } else if (document.readyState == \"complete\") {\n",
       "        attempts++;\n",
       "        if (attempts > 100) {\n",
       "          clearInterval(timer);\n",
       "          console.log(\"Bokeh: ERROR: Unable to run BokehJS code because BokehJS library is missing\");\n",
       "        }\n",
       "      }\n",
       "    }, 10, root)\n",
       "  }\n",
       "})(window);</script>"
      ],
      "text/plain": [
       ":NdOverlay   [class]\n",
       "   :Scatter   [principal component 1]   (principal component 2,class)"
      ]
     },
     "execution_count": 24,
     "metadata": {
      "application/vnd.holoviews_exec.v0+json": {
       "id": "1472"
      }
     },
     "output_type": "execute_result"
    }
   ],
   "source": [
    "# Plotting the clusters\n",
    "df_iris_pca.hvplot.scatter(\n",
    "    x=\"principal component 1\",\n",
    "    y=\"principal component 2\",\n",
    "    hover_cols=[\"class\"],\n",
    "    by=\"class\",\n",
    ")\n"
   ]
  },
  {
   "cell_type": "code",
   "execution_count": 26,
   "metadata": {},
   "outputs": [
    {
     "ename": "ValueError",
     "evalue": "Value of 'color' is not the name of a column in 'data_frame'. Expected one of ['sepal_length', 'sepal_width', 'petal_length', 'petal_width'] but received: class",
     "output_type": "error",
     "traceback": [
      "\u001b[1;31m---------------------------------------------------------------------------\u001b[0m",
      "\u001b[1;31mValueError\u001b[0m                                Traceback (most recent call last)",
      "\u001b[1;32m<ipython-input-26-0ad46e0d9b81>\u001b[0m in \u001b[0;36m<module>\u001b[1;34m\u001b[0m\n\u001b[0;32m      7\u001b[0m     \u001b[0msymbol\u001b[0m\u001b[1;33m=\u001b[0m\u001b[1;34m\"class\"\u001b[0m\u001b[1;33m,\u001b[0m\u001b[1;33m\u001b[0m\u001b[1;33m\u001b[0m\u001b[0m\n\u001b[0;32m      8\u001b[0m     \u001b[0msize\u001b[0m\u001b[1;33m=\u001b[0m\u001b[1;34m\"sepal_width\"\u001b[0m\u001b[1;33m,\u001b[0m\u001b[1;33m\u001b[0m\u001b[1;33m\u001b[0m\u001b[0m\n\u001b[1;32m----> 9\u001b[1;33m     \u001b[0mwidth\u001b[0m\u001b[1;33m=\u001b[0m\u001b[1;36m800\u001b[0m\u001b[1;33m,\u001b[0m\u001b[1;33m\u001b[0m\u001b[1;33m\u001b[0m\u001b[0m\n\u001b[0m\u001b[0;32m     10\u001b[0m )\n\u001b[0;32m     11\u001b[0m \u001b[0mfig\u001b[0m\u001b[1;33m.\u001b[0m\u001b[0mupdate_layout\u001b[0m\u001b[1;33m(\u001b[0m\u001b[0mlegend\u001b[0m\u001b[1;33m=\u001b[0m\u001b[0mdict\u001b[0m\u001b[1;33m(\u001b[0m\u001b[0mx\u001b[0m\u001b[1;33m=\u001b[0m\u001b[1;36m0\u001b[0m\u001b[1;33m,\u001b[0m \u001b[0my\u001b[0m\u001b[1;33m=\u001b[0m\u001b[1;36m1\u001b[0m\u001b[1;33m)\u001b[0m\u001b[1;33m)\u001b[0m\u001b[1;33m\u001b[0m\u001b[1;33m\u001b[0m\u001b[0m\n",
      "\u001b[1;32m~\\anaconda3\\envs\\alpacaenv\\lib\\site-packages\\plotly\\express\\_chart_types.py\u001b[0m in \u001b[0;36mscatter_3d\u001b[1;34m(data_frame, x, y, z, color, symbol, size, text, hover_name, hover_data, custom_data, error_x, error_x_minus, error_y, error_y_minus, error_z, error_z_minus, animation_frame, animation_group, category_orders, labels, size_max, color_discrete_sequence, color_discrete_map, color_continuous_scale, range_color, color_continuous_midpoint, symbol_sequence, symbol_map, opacity, log_x, log_y, log_z, range_x, range_y, range_z, title, template, width, height)\u001b[0m\n\u001b[0;32m    672\u001b[0m     \u001b[0msymbol\u001b[0m \u001b[0mmark\u001b[0m \u001b[1;32min\u001b[0m \u001b[1;36m3\u001b[0m\u001b[0mD\u001b[0m \u001b[0mspace\u001b[0m\u001b[1;33m.\u001b[0m\u001b[1;33m\u001b[0m\u001b[1;33m\u001b[0m\u001b[0m\n\u001b[0;32m    673\u001b[0m     \"\"\"\n\u001b[1;32m--> 674\u001b[1;33m     \u001b[1;32mreturn\u001b[0m \u001b[0mmake_figure\u001b[0m\u001b[1;33m(\u001b[0m\u001b[0margs\u001b[0m\u001b[1;33m=\u001b[0m\u001b[0mlocals\u001b[0m\u001b[1;33m(\u001b[0m\u001b[1;33m)\u001b[0m\u001b[1;33m,\u001b[0m \u001b[0mconstructor\u001b[0m\u001b[1;33m=\u001b[0m\u001b[0mgo\u001b[0m\u001b[1;33m.\u001b[0m\u001b[0mScatter3d\u001b[0m\u001b[1;33m)\u001b[0m\u001b[1;33m\u001b[0m\u001b[1;33m\u001b[0m\u001b[0m\n\u001b[0m\u001b[0;32m    675\u001b[0m \u001b[1;33m\u001b[0m\u001b[0m\n\u001b[0;32m    676\u001b[0m \u001b[1;33m\u001b[0m\u001b[0m\n",
      "\u001b[1;32m~\\anaconda3\\envs\\alpacaenv\\lib\\site-packages\\plotly\\express\\_core.py\u001b[0m in \u001b[0;36mmake_figure\u001b[1;34m(args, constructor, trace_patch, layout_patch)\u001b[0m\n\u001b[0;32m   1824\u001b[0m     \u001b[0mapply_default_cascade\u001b[0m\u001b[1;33m(\u001b[0m\u001b[0margs\u001b[0m\u001b[1;33m)\u001b[0m\u001b[1;33m\u001b[0m\u001b[1;33m\u001b[0m\u001b[0m\n\u001b[0;32m   1825\u001b[0m \u001b[1;33m\u001b[0m\u001b[0m\n\u001b[1;32m-> 1826\u001b[1;33m     \u001b[0margs\u001b[0m \u001b[1;33m=\u001b[0m \u001b[0mbuild_dataframe\u001b[0m\u001b[1;33m(\u001b[0m\u001b[0margs\u001b[0m\u001b[1;33m,\u001b[0m \u001b[0mconstructor\u001b[0m\u001b[1;33m)\u001b[0m\u001b[1;33m\u001b[0m\u001b[1;33m\u001b[0m\u001b[0m\n\u001b[0m\u001b[0;32m   1827\u001b[0m     \u001b[1;32mif\u001b[0m \u001b[0mconstructor\u001b[0m \u001b[1;32min\u001b[0m \u001b[1;33m[\u001b[0m\u001b[0mgo\u001b[0m\u001b[1;33m.\u001b[0m\u001b[0mTreemap\u001b[0m\u001b[1;33m,\u001b[0m \u001b[0mgo\u001b[0m\u001b[1;33m.\u001b[0m\u001b[0mSunburst\u001b[0m\u001b[1;33m]\u001b[0m \u001b[1;32mand\u001b[0m \u001b[0margs\u001b[0m\u001b[1;33m[\u001b[0m\u001b[1;34m\"path\"\u001b[0m\u001b[1;33m]\u001b[0m \u001b[1;32mis\u001b[0m \u001b[1;32mnot\u001b[0m \u001b[1;32mNone\u001b[0m\u001b[1;33m:\u001b[0m\u001b[1;33m\u001b[0m\u001b[1;33m\u001b[0m\u001b[0m\n\u001b[0;32m   1828\u001b[0m         \u001b[0margs\u001b[0m \u001b[1;33m=\u001b[0m \u001b[0mprocess_dataframe_hierarchy\u001b[0m\u001b[1;33m(\u001b[0m\u001b[0margs\u001b[0m\u001b[1;33m)\u001b[0m\u001b[1;33m\u001b[0m\u001b[1;33m\u001b[0m\u001b[0m\n",
      "\u001b[1;32m~\\anaconda3\\envs\\alpacaenv\\lib\\site-packages\\plotly\\express\\_core.py\u001b[0m in \u001b[0;36mbuild_dataframe\u001b[1;34m(args, constructor)\u001b[0m\n\u001b[0;32m   1357\u001b[0m \u001b[1;33m\u001b[0m\u001b[0m\n\u001b[0;32m   1358\u001b[0m     df_output, wide_id_vars = process_args_into_dataframe(\n\u001b[1;32m-> 1359\u001b[1;33m         \u001b[0margs\u001b[0m\u001b[1;33m,\u001b[0m \u001b[0mwide_mode\u001b[0m\u001b[1;33m,\u001b[0m \u001b[0mvar_name\u001b[0m\u001b[1;33m,\u001b[0m \u001b[0mvalue_name\u001b[0m\u001b[1;33m\u001b[0m\u001b[1;33m\u001b[0m\u001b[0m\n\u001b[0m\u001b[0;32m   1360\u001b[0m     )\n\u001b[0;32m   1361\u001b[0m \u001b[1;33m\u001b[0m\u001b[0m\n",
      "\u001b[1;32m~\\anaconda3\\envs\\alpacaenv\\lib\\site-packages\\plotly\\express\\_core.py\u001b[0m in \u001b[0;36mprocess_args_into_dataframe\u001b[1;34m(args, wide_mode, var_name, value_name)\u001b[0m\n\u001b[0;32m   1162\u001b[0m                         \u001b[1;32mif\u001b[0m \u001b[0margument\u001b[0m \u001b[1;33m==\u001b[0m \u001b[1;34m\"index\"\u001b[0m\u001b[1;33m:\u001b[0m\u001b[1;33m\u001b[0m\u001b[1;33m\u001b[0m\u001b[0m\n\u001b[0;32m   1163\u001b[0m                             \u001b[0merr_msg\u001b[0m \u001b[1;33m+=\u001b[0m \u001b[1;34m\"\\n To use the index, pass it in directly as `df.index`.\"\u001b[0m\u001b[1;33m\u001b[0m\u001b[1;33m\u001b[0m\u001b[0m\n\u001b[1;32m-> 1164\u001b[1;33m                         \u001b[1;32mraise\u001b[0m \u001b[0mValueError\u001b[0m\u001b[1;33m(\u001b[0m\u001b[0merr_msg\u001b[0m\u001b[1;33m)\u001b[0m\u001b[1;33m\u001b[0m\u001b[1;33m\u001b[0m\u001b[0m\n\u001b[0m\u001b[0;32m   1165\u001b[0m                 \u001b[1;32melif\u001b[0m \u001b[0mlength\u001b[0m \u001b[1;32mand\u001b[0m \u001b[0mlen\u001b[0m\u001b[1;33m(\u001b[0m\u001b[0mdf_input\u001b[0m\u001b[1;33m[\u001b[0m\u001b[0margument\u001b[0m\u001b[1;33m]\u001b[0m\u001b[1;33m)\u001b[0m \u001b[1;33m!=\u001b[0m \u001b[0mlength\u001b[0m\u001b[1;33m:\u001b[0m\u001b[1;33m\u001b[0m\u001b[1;33m\u001b[0m\u001b[0m\n\u001b[0;32m   1166\u001b[0m                     raise ValueError(\n",
      "\u001b[1;31mValueError\u001b[0m: Value of 'color' is not the name of a column in 'data_frame'. Expected one of ['sepal_length', 'sepal_width', 'petal_length', 'petal_width'] but received: class"
     ]
    }
   ],
   "source": [
    "fig = px.scatter_3d(\n",
    "    df_iris,\n",
    "    x=\"petal_width\",\n",
    "    y=\"sepal_length\",\n",
    "    z=\"petal_length\",\n",
    "    color=\"class\",\n",
    "    symbol=\"class\",\n",
    "    size=\"sepal_width\",\n",
    "    width=800,\n",
    ")\n",
    "fig.update_layout(legend=dict(x=0, y=1))\n",
    "fig.show()"
   ]
  },
  {
   "cell_type": "code",
   "execution_count": null,
   "metadata": {},
   "outputs": [],
   "source": []
  }
 ],
 "metadata": {
  "file_extension": ".py",
  "kernelspec": {
   "display_name": "Python 3",
   "language": "python",
   "name": "python3"
  },
  "language_info": {
   "codemirror_mode": {
    "name": "ipython",
    "version": 3
   },
   "file_extension": ".py",
   "mimetype": "text/x-python",
   "name": "python",
   "nbconvert_exporter": "python",
   "pygments_lexer": "ipython3",
   "version": "3.7.7"
  },
  "mimetype": "text/x-python",
  "name": "python",
  "npconvert_exporter": "python",
  "pygments_lexer": "ipython3",
  "version": 3
 },
 "nbformat": 4,
 "nbformat_minor": 4
}
