{
 "cells": [
  {
   "cell_type": "markdown",
   "metadata": {},
   "source": [
    "# Monte Carlo Simulation"
   ]
  },
  {
   "cell_type": "code",
   "execution_count": 2,
   "metadata": {},
   "outputs": [
    {
     "name": "stdout",
     "output_type": "stream",
     "text": [
      "Requirement already satisfied: alpaca_trade_api in c:\\users\\mshel\\anaconda3\\envs\\alpacaenv\\lib\\site-packages (0.51.0)\n",
      "Requirement already satisfied: urllib3<1.26,>1.24 in c:\\users\\mshel\\anaconda3\\envs\\alpacaenv\\lib\\site-packages (from alpaca_trade_api) (1.24.3)\n",
      "Requirement already satisfied: pandas in c:\\users\\mshel\\anaconda3\\envs\\alpacaenv\\lib\\site-packages (from alpaca_trade_api) (0.24.2)\n",
      "Requirement already satisfied: websockets<9,>=8.0 in c:\\users\\mshel\\anaconda3\\envs\\alpacaenv\\lib\\site-packages (from alpaca_trade_api) (8.1)\n",
      "Requirement already satisfied: requests<3,>2 in c:\\users\\mshel\\anaconda3\\envs\\alpacaenv\\lib\\site-packages (from alpaca_trade_api) (2.21.0)\n",
      "Requirement already satisfied: websocket-client<1,>=0.56.0 in c:\\users\\mshel\\anaconda3\\envs\\alpacaenv\\lib\\site-packages (from alpaca_trade_api) (0.57.0)\n",
      "Requirement already satisfied: numpy>=1.12.0 in c:\\users\\mshel\\anaconda3\\envs\\alpacaenv\\lib\\site-packages (from pandas->alpaca_trade_api) (1.19.2)\n",
      "Requirement already satisfied: python-dateutil>=2.5.0 in c:\\users\\mshel\\anaconda3\\envs\\alpacaenv\\lib\\site-packages (from pandas->alpaca_trade_api) (2.8.1)\n",
      "Requirement already satisfied: pytz>=2011k in c:\\users\\mshel\\anaconda3\\envs\\alpacaenv\\lib\\site-packages (from pandas->alpaca_trade_api) (2020.1)\n",
      "Requirement already satisfied: idna<2.9,>=2.5 in c:\\users\\mshel\\anaconda3\\envs\\alpacaenv\\lib\\site-packages (from requests<3,>2->alpaca_trade_api) (2.8)\n",
      "Requirement already satisfied: certifi>=2017.4.17 in c:\\users\\mshel\\anaconda3\\envs\\alpacaenv\\lib\\site-packages (from requests<3,>2->alpaca_trade_api) (2020.11.8)\n",
      "Requirement already satisfied: chardet<3.1.0,>=3.0.2 in c:\\users\\mshel\\anaconda3\\envs\\alpacaenv\\lib\\site-packages (from requests<3,>2->alpaca_trade_api) (3.0.4)\n",
      "Requirement already satisfied: six in c:\\users\\mshel\\anaconda3\\envs\\alpacaenv\\lib\\site-packages (from websocket-client<1,>=0.56.0->alpaca_trade_api) (1.15.0)\n"
     ]
    }
   ],
   "source": [
    "# Initial imports\n",
    "import requests\n",
    "import pandas as pd\n",
    "import numpy as np\n",
    "!pip install alpaca_trade_api\n",
    "import alpaca_trade_api as tradeapi\n",
    "\n",
    "%matplotlib inline"
   ]
  },
  {
   "cell_type": "code",
   "execution_count": 6,
   "metadata": {},
   "outputs": [],
   "source": [
    "# Set Alpaca API key and secret\n",
    "alpaca_api_key = 'PKV67VZV9NXFISZP7N65'\n",
    "alpaca_secret_key = '3N7LoiAPwx2PH2yKjIEz2Bikp24cYpvZdxoO8CV8'\n",
    "\n",
    "api = tradeapi.REST(alpaca_api_key, alpaca_secret_key, api_version='v2')"
   ]
  },
  {
   "cell_type": "markdown",
   "metadata": {},
   "source": [
    "## Fetch Tickers Data"
   ]
  },
  {
   "cell_type": "code",
   "execution_count": 7,
   "metadata": {},
   "outputs": [],
   "source": [
    "def get_ticker_prices(ticker):\n",
    "    \n",
    "    # Set timeframe to '1D'\n",
    "    timeframe = '1D'\n",
    "\n",
    "    # Make the API cal and store in DataFrame    \n",
    "    data_df = api.get_barset(\n",
    "        ticker,\n",
    "        timeframe,\n",
    "        limit=None,\n",
    "        after=None,\n",
    "        until=None,\n",
    "    ).df\n",
    "    \n",
    "    # Clean DataFrame to show only close prices \n",
    "    df = pd.DataFrame({'close_'+ticker.lower():data_df[ticker]['close']})\n",
    "    return df"
   ]
  },
  {
   "cell_type": "code",
   "execution_count": 8,
   "metadata": {},
   "outputs": [
    {
     "data": {
      "text/html": [
       "<div>\n",
       "<style scoped>\n",
       "    .dataframe tbody tr th:only-of-type {\n",
       "        vertical-align: middle;\n",
       "    }\n",
       "\n",
       "    .dataframe tbody tr th {\n",
       "        vertical-align: top;\n",
       "    }\n",
       "\n",
       "    .dataframe thead th {\n",
       "        text-align: right;\n",
       "    }\n",
       "</style>\n",
       "<table border=\"1\" class=\"dataframe\">\n",
       "  <thead>\n",
       "    <tr style=\"text-align: right;\">\n",
       "      <th></th>\n",
       "      <th>close_spy</th>\n",
       "      <th>close_agg</th>\n",
       "    </tr>\n",
       "    <tr>\n",
       "      <th>time</th>\n",
       "      <th></th>\n",
       "      <th></th>\n",
       "    </tr>\n",
       "  </thead>\n",
       "  <tbody>\n",
       "    <tr>\n",
       "      <th>2020-07-16 00:00:00-04:00</th>\n",
       "      <td>320.76</td>\n",
       "      <td>118.77</td>\n",
       "    </tr>\n",
       "    <tr>\n",
       "      <th>2020-07-17 00:00:00-04:00</th>\n",
       "      <td>321.67</td>\n",
       "      <td>118.86</td>\n",
       "    </tr>\n",
       "    <tr>\n",
       "      <th>2020-07-20 00:00:00-04:00</th>\n",
       "      <td>324.36</td>\n",
       "      <td>118.98</td>\n",
       "    </tr>\n",
       "    <tr>\n",
       "      <th>2020-07-21 00:00:00-04:00</th>\n",
       "      <td>324.96</td>\n",
       "      <td>119.05</td>\n",
       "    </tr>\n",
       "    <tr>\n",
       "      <th>2020-07-22 00:00:00-04:00</th>\n",
       "      <td>326.82</td>\n",
       "      <td>119.18</td>\n",
       "    </tr>\n",
       "  </tbody>\n",
       "</table>\n",
       "</div>"
      ],
      "text/plain": [
       "                           close_spy  close_agg\n",
       "time                                           \n",
       "2020-07-16 00:00:00-04:00     320.76     118.77\n",
       "2020-07-17 00:00:00-04:00     321.67     118.86\n",
       "2020-07-20 00:00:00-04:00     324.36     118.98\n",
       "2020-07-21 00:00:00-04:00     324.96     119.05\n",
       "2020-07-22 00:00:00-04:00     326.82     119.18"
      ]
     },
     "execution_count": 8,
     "metadata": {},
     "output_type": "execute_result"
    }
   ],
   "source": [
    "spy_data = get_ticker_prices(\"SPY\")\n",
    "agg_data = get_ticker_prices(\"AGG\")\n",
    "tickers_data = spy_data.join(agg_data)\n",
    "tickers_data.head()"
   ]
  },
  {
   "cell_type": "markdown",
   "metadata": {},
   "source": [
    "## Monte Carlo Simulation Code"
   ]
  },
  {
   "cell_type": "code",
   "execution_count": 9,
   "metadata": {},
   "outputs": [
    {
     "name": "stdout",
     "output_type": "stream",
     "text": [
      "****************************************************************************************************\n",
      "Daily ROI\n",
      "****************************************************************************************************\n"
     ]
    },
    {
     "data": {
      "text/html": [
       "<div>\n",
       "<style scoped>\n",
       "    .dataframe tbody tr th:only-of-type {\n",
       "        vertical-align: middle;\n",
       "    }\n",
       "\n",
       "    .dataframe tbody tr th {\n",
       "        vertical-align: top;\n",
       "    }\n",
       "\n",
       "    .dataframe thead th {\n",
       "        text-align: right;\n",
       "    }\n",
       "</style>\n",
       "<table border=\"1\" class=\"dataframe\">\n",
       "  <thead>\n",
       "    <tr style=\"text-align: right;\">\n",
       "      <th></th>\n",
       "      <th>close_spy</th>\n",
       "      <th>close_agg</th>\n",
       "    </tr>\n",
       "    <tr>\n",
       "      <th>time</th>\n",
       "      <th></th>\n",
       "      <th></th>\n",
       "    </tr>\n",
       "  </thead>\n",
       "  <tbody>\n",
       "    <tr>\n",
       "      <th>2020-07-16 00:00:00-04:00</th>\n",
       "      <td>NaN</td>\n",
       "      <td>NaN</td>\n",
       "    </tr>\n",
       "    <tr>\n",
       "      <th>2020-07-17 00:00:00-04:00</th>\n",
       "      <td>0.002837</td>\n",
       "      <td>0.000758</td>\n",
       "    </tr>\n",
       "    <tr>\n",
       "      <th>2020-07-20 00:00:00-04:00</th>\n",
       "      <td>0.008363</td>\n",
       "      <td>0.001010</td>\n",
       "    </tr>\n",
       "    <tr>\n",
       "      <th>2020-07-21 00:00:00-04:00</th>\n",
       "      <td>0.001850</td>\n",
       "      <td>0.000588</td>\n",
       "    </tr>\n",
       "    <tr>\n",
       "      <th>2020-07-22 00:00:00-04:00</th>\n",
       "      <td>0.005724</td>\n",
       "      <td>0.001092</td>\n",
       "    </tr>\n",
       "  </tbody>\n",
       "</table>\n",
       "</div>"
      ],
      "text/plain": [
       "                           close_spy  close_agg\n",
       "time                                           \n",
       "2020-07-16 00:00:00-04:00        NaN        NaN\n",
       "2020-07-17 00:00:00-04:00   0.002837   0.000758\n",
       "2020-07-20 00:00:00-04:00   0.008363   0.001010\n",
       "2020-07-21 00:00:00-04:00   0.001850   0.000588\n",
       "2020-07-22 00:00:00-04:00   0.005724   0.001092"
      ]
     },
     "metadata": {},
     "output_type": "display_data"
    }
   ],
   "source": [
    "# Calculate the daily roi for the stocks\n",
    "daily_returns = tickers_data.pct_change()\n",
    "print(\"*\" * 100)\n",
    "print(\"Daily ROI\")\n",
    "print(\"*\" * 100)\n",
    "display(daily_returns.head())\n",
    "\n",
    "# volatility\n",
    "daily_volatility = daily_returns.std()\n",
    "spy_volatility = daily_volatility[\"close_spy\"]\n",
    "agg_volatility = daily_volatility[\"close_agg\"]\n",
    "\n",
    "# Save the last day's closing price\n",
    "spy_last_price = tickers_data[\"close_spy\"][-1]\n",
    "agg_last_price = tickers_data[\"close_agg\"][-1]\n",
    "\n"
   ]
  },
  {
   "cell_type": "code",
   "execution_count": 10,
   "metadata": {},
   "outputs": [],
   "source": [
    "# Setup the Monte Carlo Parameters\n",
    "number_simulations = 10\n",
    "number_records = 252 * 30  # Years to retirement\n",
    "monte_carlo = pd.DataFrame()\n",
    "\n"
   ]
  },
  {
   "cell_type": "code",
   "execution_count": 11,
   "metadata": {},
   "outputs": [
    {
     "name": "stdout",
     "output_type": "stream",
     "text": [
      "Running Simulation 0...\n",
      "Running Simulation 1...\n",
      "Running Simulation 2...\n",
      "Running Simulation 3...\n",
      "Running Simulation 4...\n",
      "Running Simulation 5...\n",
      "Running Simulation 6...\n",
      "Running Simulation 7...\n",
      "Running Simulation 8...\n",
      "Running Simulation 9...\n"
     ]
    }
   ],
   "source": [
    "# Run the Monte Carlo Simulation\n",
    "for x in range(number_simulations):\n",
    "\n",
    "    print(f\"Running Simulation {x}...\")\n",
    "\n",
    "    # Create the initial simulated prices array seeded with the last closing price\n",
    "    spy_prices = [spy_last_price]\n",
    "    agg_prices = [agg_last_price]\n",
    "\n",
    "    # Simulate the returns for 20 years\n",
    "    for iteration in range(number_records):\n",
    "        spy_prices.append(\n",
    "            spy_prices[-1]\n",
    "            * (1 + np.random.normal(daily_returns.mean()[\"close_spy\"], spy_volatility))\n",
    "        )\n",
    "        agg_prices.append(\n",
    "            agg_prices[-1]\n",
    "            * (1 + np.random.normal(daily_returns.mean()[\"close_agg\"], agg_volatility))\n",
    "        )\n",
    "\n",
    "    # Create a DataFrame of the simulated prices\n",
    "    portfolio = pd.DataFrame(\n",
    "        {\"SPY Simulated Prices\": spy_prices, \"AGG Simulated Prices\": agg_prices}\n",
    "    )\n",
    "\n",
    "    # Calculate the Portfolio Daily Returns\n",
    "    portfolio_returns = portfolio.pct_change()\n",
    "\n",
    "    # Set the Portfolio Weights (Assume a 60/40 stocks to bonds ratio)\n",
    "    stocks_weight = 0.60\n",
    "    bonds_weight = 0.40\n",
    "\n",
    "    # Calculate the weighted portfolio return:\n",
    "    portfolio_returns = (\n",
    "        stocks_weight * portfolio_returns[\"SPY Simulated Prices\"]\n",
    "        + bonds_weight * portfolio_returns[\"AGG Simulated Prices\"]\n",
    "    )\n",
    "\n",
    "    # Calculate the normalized, cumulative return series\n",
    "    monte_carlo[x] = (1 + portfolio_returns.fillna(0)).cumprod()\n",
    "\n"
   ]
  },
  {
   "cell_type": "code",
   "execution_count": 13,
   "metadata": {},
   "outputs": [
    {
     "data": {
      "text/html": [
       "<div>\n",
       "<style scoped>\n",
       "    .dataframe tbody tr th:only-of-type {\n",
       "        vertical-align: middle;\n",
       "    }\n",
       "\n",
       "    .dataframe tbody tr th {\n",
       "        vertical-align: top;\n",
       "    }\n",
       "\n",
       "    .dataframe thead th {\n",
       "        text-align: right;\n",
       "    }\n",
       "</style>\n",
       "<table border=\"1\" class=\"dataframe\">\n",
       "  <thead>\n",
       "    <tr style=\"text-align: right;\">\n",
       "      <th></th>\n",
       "      <th>0</th>\n",
       "      <th>1</th>\n",
       "      <th>2</th>\n",
       "      <th>3</th>\n",
       "      <th>4</th>\n",
       "      <th>5</th>\n",
       "      <th>6</th>\n",
       "      <th>7</th>\n",
       "      <th>8</th>\n",
       "      <th>9</th>\n",
       "    </tr>\n",
       "  </thead>\n",
       "  <tbody>\n",
       "    <tr>\n",
       "      <th>0</th>\n",
       "      <td>1.000000</td>\n",
       "      <td>1.000000</td>\n",
       "      <td>1.000000</td>\n",
       "      <td>1.000000</td>\n",
       "      <td>1.000000</td>\n",
       "      <td>1.000000</td>\n",
       "      <td>1.000000</td>\n",
       "      <td>1.000000</td>\n",
       "      <td>1.000000</td>\n",
       "      <td>1.000000</td>\n",
       "    </tr>\n",
       "    <tr>\n",
       "      <th>1</th>\n",
       "      <td>0.991376</td>\n",
       "      <td>0.995297</td>\n",
       "      <td>1.007984</td>\n",
       "      <td>0.998100</td>\n",
       "      <td>1.003696</td>\n",
       "      <td>1.010388</td>\n",
       "      <td>1.001902</td>\n",
       "      <td>0.994993</td>\n",
       "      <td>1.005054</td>\n",
       "      <td>0.998635</td>\n",
       "    </tr>\n",
       "    <tr>\n",
       "      <th>2</th>\n",
       "      <td>0.978713</td>\n",
       "      <td>0.985950</td>\n",
       "      <td>1.000861</td>\n",
       "      <td>1.004924</td>\n",
       "      <td>0.998584</td>\n",
       "      <td>1.009242</td>\n",
       "      <td>1.004767</td>\n",
       "      <td>0.993668</td>\n",
       "      <td>0.995829</td>\n",
       "      <td>0.998330</td>\n",
       "    </tr>\n",
       "    <tr>\n",
       "      <th>3</th>\n",
       "      <td>0.982661</td>\n",
       "      <td>0.983745</td>\n",
       "      <td>1.008209</td>\n",
       "      <td>1.011904</td>\n",
       "      <td>1.001346</td>\n",
       "      <td>1.001969</td>\n",
       "      <td>1.011536</td>\n",
       "      <td>0.990737</td>\n",
       "      <td>1.008805</td>\n",
       "      <td>0.994157</td>\n",
       "    </tr>\n",
       "    <tr>\n",
       "      <th>4</th>\n",
       "      <td>0.970674</td>\n",
       "      <td>0.984537</td>\n",
       "      <td>1.014462</td>\n",
       "      <td>1.008462</td>\n",
       "      <td>1.015593</td>\n",
       "      <td>0.994945</td>\n",
       "      <td>1.017385</td>\n",
       "      <td>0.993998</td>\n",
       "      <td>1.031577</td>\n",
       "      <td>0.991871</td>\n",
       "    </tr>\n",
       "  </tbody>\n",
       "</table>\n",
       "</div>"
      ],
      "text/plain": [
       "          0         1         2         3         4         5         6  \\\n",
       "0  1.000000  1.000000  1.000000  1.000000  1.000000  1.000000  1.000000   \n",
       "1  0.991376  0.995297  1.007984  0.998100  1.003696  1.010388  1.001902   \n",
       "2  0.978713  0.985950  1.000861  1.004924  0.998584  1.009242  1.004767   \n",
       "3  0.982661  0.983745  1.008209  1.011904  1.001346  1.001969  1.011536   \n",
       "4  0.970674  0.984537  1.014462  1.008462  1.015593  0.994945  1.017385   \n",
       "\n",
       "          7         8         9  \n",
       "0  1.000000  1.000000  1.000000  \n",
       "1  0.994993  1.005054  0.998635  \n",
       "2  0.993668  0.995829  0.998330  \n",
       "3  0.990737  1.008805  0.994157  \n",
       "4  0.993998  1.031577  0.991871  "
      ]
     },
     "execution_count": 13,
     "metadata": {},
     "output_type": "execute_result"
    }
   ],
   "source": [
    "# Check that the simulation ran successfully\n",
    "monte_carlo.head()\n",
    "\n"
   ]
  },
  {
   "cell_type": "code",
   "execution_count": 14,
   "metadata": {},
   "outputs": [
    {
     "data": {
      "text/plain": [
       "<AxesSubplot:title={'center':'Simulated Retirement Portfolio'}>"
      ]
     },
     "execution_count": 14,
     "metadata": {},
     "output_type": "execute_result"
    },
    {
     "data": {
      "image/png": "[encoded data removed]",
      "text/plain": [
       "<Figure size 432x288 with 1 Axes>"
      ]
     },
     "metadata": {
      "needs_background": "light"
     },
     "output_type": "display_data"
    }
   ],
   "source": [
    "# Visualize the Simulation\n",
    "monte_carlo.plot(legend=None, title=\"Simulated Retirement Portfolio\")\n"
   ]
  },
  {
   "cell_type": "code",
   "execution_count": null,
   "metadata": {},
   "outputs": [],
   "source": []
  }
 ],
 "metadata": {
  "file_extension": ".py",
  "kernelspec": {
   "display_name": "Python [conda env:alpacaenv] *",
   "language": "python",
   "name": "conda-env-alpacaenv-py"
  },
  "language_info": {
   "codemirror_mode": {
    "name": "ipython",
    "version": 3
   },
   "file_extension": ".py",
   "mimetype": "text/x-python",
   "name": "python",
   "nbconvert_exporter": "python",
   "pygments_lexer": "ipython3",
   "version": "3.7.7"
  },
  "mimetype": "text/x-python",
  "name": "python",
  "npconvert_exporter": "python",
  "pygments_lexer": "ipython3",
  "version": 3
 },
 "nbformat": 4,
 "nbformat_minor": 4
}
